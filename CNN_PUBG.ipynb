{
  "nbformat": 4,
  "nbformat_minor": 0,
  "metadata": {
    "colab": {
      "name": "CNN PUBG.ipynb",
      "provenance": [],
      "collapsed_sections": [],
      "mount_file_id": "1DdBGU6dqSIAMGy8MHeZVkaHFE6ogvFDs",
      "authorship_tag": "ABX9TyMrdLYWGo4QhKP8ZgvxN5oB",
      "include_colab_link": true
    },
    "kernelspec": {
      "name": "python3",
      "display_name": "Python 3"
    }
  },
  "cells": [
    {
      "cell_type": "markdown",
      "metadata": {
        "id": "view-in-github",
        "colab_type": "text"
      },
      "source": [
        "<a href=\"https://colab.research.google.com/github/lucasferreiraos/curso-aprendizado-de-maquina-na-pratica/blob/master/CNN_PUBG.ipynb\" target=\"_parent\"><img src=\"https://colab.research.google.com/assets/colab-badge.svg\" alt=\"Open In Colab\"/></a>"
      ]
    },
    {
      "cell_type": "markdown",
      "metadata": {
        "id": "RsS7dqDEiLL9"
      },
      "source": [
        "# PUBG\n",
        "\n",
        "O Playerunknown's Battle Grounds (PUBG) é um jogo eletrônico feito para PC, Xbox e mobile, do estilo battle royale. O jogo acontece em mapa aberto onde 100 jogadores saltam de um avião e a única missão deles é sobreviver. Para tal, eles podem coletar itens (armas, munição, bombas, itens de cura, capacetes, coletes, mochilas) e veículos que ficam distribuídos por todo o mapa. Durante a partida, um círculo de feixe azul (dentro do jogo, aqui no Brasil, é conhecido como \"gás\") vai se fechando para manter a área de jogo menor e forçar o confronto entre os jogadores. A área coberta pelo feixe azul causa dano e esse dano aumenta cada vez à medida em que o círculo vai ficando menor. A cada vez que o feixe \"anda\" é exibido em que ponto do mapa o círculo vai fechar. Esse novo ponto é comumente chamado de \"safe\". Quem ficar por último vence a partida. O jogo pode ser jogado tanto em primeira-pessoa quanto em terceira-pessoa. Os modos de jogo são solo, duo, squad de 3 pessoas e squad de 4 pessoas.\n",
        "\n",
        "[Demosntração de uma partida de PUBG](https://www.youtube.com/watch?v=f-7iWtfx1uo&ab_channel=NetenhoCavalcante)\n",
        "\n",
        "O dataset é de uma competição no Kaggle onde o desafio era construir o melhor modelo que conseguisse prever a probabilidade de um jogador vencer uma partida de acordo com suas estatísticas. [Link do dataset.](https://www.kaggle.com/c/pubg-finish-placement-prediction/data)\n",
        "\n",
        "\n",
        "Variáveis:\n",
        "\n",
        "- `DBNOs` - Número de jogadores inimigos batidos.\n",
        "- `assists` - Número de jogadores inimigos que este jogador danificou que foram mortos por companheiros de equipe.\n",
        "- `boosts` - Número de itens de boost utilizados.\n",
        "- `damageDealt` - Dano total causado. Nota: o dano autoinfligido é subtraído.\n",
        "- `headshotKills` - Número de inimigos abatidos com headshots.\n",
        "- `heals` - Número de itens de cura utilizados.\n",
        "- `Id` - ID do jogador\n",
        "- `killPlace` - Classificação na partida do número de jogadores inimigos mortos.\n",
        "- `killPoints` - Classificação externa do jogador baseada em mortes. (Pense nisso como um Elo - classificação onde apenas as mortes importam.) Se houver um valor diferente de -1 em rankPoints, então qualquer 0 em `killPoints` deve ser tratado como um `None`.\n",
        "- `killStreaks` - Número máximo de jogadores inimigos mortos em um curto espaço de tempo.\n",
        "- `kills` - Número de inimigos mortos.\n",
        "- `longestKill` - Maior distância entre o jogador e o jogador morto no momento da morte. Isso pode ser enganoso, pois derrubar um jogador e fugir pode levar a uma estatística de morte mais longa.\n",
        "- `matchDuration` - Duração da partida em segundos.\n",
        "- `matchId` - ID para identificar partida. Não há partidas no conjunto de treinamento e teste.\n",
        "- `matchType` - String que identifica o modo de jogo de onde vêm os dados. Os - modos padrão são “solo”, “duo”, “esquadrão”, “solo-fpp”, “duo-fpp” e “esquadrão-fpp”; outros modos são de eventos ou partidas personalizadas.\n",
        "- `rankPoints` - Classificação do jogador semelhante a Elo. Esta classificação é inconsistente e está sendo descontinuada na próxima versão da API, então use com cuidado. Valor de -1 ocorre em `None`.\n",
        "- `revives` - Número de vezes que este jogador reviveu companheiros de equipe.\n",
        "- `rideDistance` - Distância total percorrida por veículos medida em metros.\n",
        "- `roadKills` - Número de kills a bordo de um veículo.\n",
        "- `swimDistance` - Distância total percorrida nadando em metros.\n",
        "- `teamKills` - Número de vezes que esse jogador matou um aliado.\n",
        "- `vehicleDestroys` - Número de veículos destruídos.\n",
        "- `walkDistance` - Distância total percorrida caminhando em metros.\n",
        "- `weaponsAcquired` - Número de armas adquiridas.\n",
        "- `winPoints` - Classificação externa do jogador baseada em vitórias. (Pense nisso como um ranking Elo, onde apenas ganhar importa.) Se houver um valor diferente de -1 em `rankPoints`, então qualquer 0 em `winPoints` deve ser tratado como um `None`.\n",
        "- `groupId` - ID para identificar um grupo em uma correspondência. Se o mesmo grupo de jogadores jogar em partidas diferentes, eles terão um `groupId` diferente a cada vez.\n",
        "- `numGroups` - Número de grupos para os quais temos dados na partida.\n",
        "- maxPlace - Pior colocação para a qual temos dados na partida. Isso pode não corresponder a numGroups, já que às vezes os dados pulam nas colocações.\n",
        "- `winPlacePerc` - O alvo da previsão. Este é um posicionamento percentual de vitória, onde 1 corresponde ao 1º lugar e 0 corresponde ao último lugar na partida. É calculado fora de `maxPlace`, não `numGroups`, então é possível ter pedaços ausentes em uma correspondência."
      ]
    },
    {
      "cell_type": "code",
      "metadata": {
        "id": "EQgiYyazOw32"
      },
      "source": [
        "import pandas as pd\n",
        "import numpy as np\n",
        "import seaborn as sns\n",
        "import matplotlib.pyplot as plt\n",
        "\n",
        "from sklearn.model_selection import train_test_split\n",
        "from sklearn.metrics import mean_absolute_error, mean_squared_error\n",
        "\n",
        "from keras.wrappers.scikit_learn import KerasRegressor\n",
        "\n",
        "from keras.models import Sequential\n",
        "from keras.layers import (\n",
        "    Dense,\n",
        "    Conv1D,\n",
        "    MaxPooling1D,\n",
        "    Flatten,\n",
        "    Dropout\n",
        ")"
      ],
      "execution_count": 50,
      "outputs": []
    },
    {
      "cell_type": "code",
      "metadata": {
        "id": "vr7TLWhTO8iz"
      },
      "source": [
        "data = pd.read_csv('/content/drive/My Drive/Datasets/pubg/pubg_train.csv')"
      ],
      "execution_count": 2,
      "outputs": []
    },
    {
      "cell_type": "code",
      "metadata": {
        "id": "igv8noJNq5ZJ",
        "outputId": "df238a16-e0f4-4047-bb01-74e96f479e88",
        "colab": {
          "base_uri": "https://localhost:8080/",
          "height": 34
        }
      },
      "source": [
        "print(f'Linhas: {data.shape[0]} - Colunas: {data.shape[1]}')"
      ],
      "execution_count": 3,
      "outputs": [
        {
          "output_type": "stream",
          "text": [
            "Linhas: 4446966 - Colunas: 29\n"
          ],
          "name": "stdout"
        }
      ]
    },
    {
      "cell_type": "markdown",
      "metadata": {
        "id": "qjVmf1fE2MGD"
      },
      "source": [
        "Acabamos de ver que o dataset contém mais de 4 milhões de instâncias! Para ser mais exato: 4.446.966. Vamos seguir com o processo de limpeza apenas nos dados de treino, inicialmente, e depois vamos discutir possíveis abordagens para esses dados."
      ]
    },
    {
      "cell_type": "code",
      "metadata": {
        "id": "eT3N-myclWTA",
        "outputId": "6b476f58-1c5b-4f3c-a505-ddd3a43f4f8f",
        "colab": {
          "base_uri": "https://localhost:8080/",
          "height": 224
        }
      },
      "source": [
        "data.head()"
      ],
      "execution_count": 4,
      "outputs": [
        {
          "output_type": "execute_result",
          "data": {
            "text/html": [
              "<div>\n",
              "<style scoped>\n",
              "    .dataframe tbody tr th:only-of-type {\n",
              "        vertical-align: middle;\n",
              "    }\n",
              "\n",
              "    .dataframe tbody tr th {\n",
              "        vertical-align: top;\n",
              "    }\n",
              "\n",
              "    .dataframe thead th {\n",
              "        text-align: right;\n",
              "    }\n",
              "</style>\n",
              "<table border=\"1\" class=\"dataframe\">\n",
              "  <thead>\n",
              "    <tr style=\"text-align: right;\">\n",
              "      <th></th>\n",
              "      <th>Id</th>\n",
              "      <th>groupId</th>\n",
              "      <th>matchId</th>\n",
              "      <th>assists</th>\n",
              "      <th>boosts</th>\n",
              "      <th>damageDealt</th>\n",
              "      <th>DBNOs</th>\n",
              "      <th>headshotKills</th>\n",
              "      <th>heals</th>\n",
              "      <th>killPlace</th>\n",
              "      <th>killPoints</th>\n",
              "      <th>kills</th>\n",
              "      <th>killStreaks</th>\n",
              "      <th>longestKill</th>\n",
              "      <th>matchDuration</th>\n",
              "      <th>matchType</th>\n",
              "      <th>maxPlace</th>\n",
              "      <th>numGroups</th>\n",
              "      <th>rankPoints</th>\n",
              "      <th>revives</th>\n",
              "      <th>rideDistance</th>\n",
              "      <th>roadKills</th>\n",
              "      <th>swimDistance</th>\n",
              "      <th>teamKills</th>\n",
              "      <th>vehicleDestroys</th>\n",
              "      <th>walkDistance</th>\n",
              "      <th>weaponsAcquired</th>\n",
              "      <th>winPoints</th>\n",
              "      <th>winPlacePerc</th>\n",
              "    </tr>\n",
              "  </thead>\n",
              "  <tbody>\n",
              "    <tr>\n",
              "      <th>0</th>\n",
              "      <td>7f96b2f878858a</td>\n",
              "      <td>4d4b580de459be</td>\n",
              "      <td>a10357fd1a4a91</td>\n",
              "      <td>0</td>\n",
              "      <td>0</td>\n",
              "      <td>0.00</td>\n",
              "      <td>0</td>\n",
              "      <td>0</td>\n",
              "      <td>0</td>\n",
              "      <td>60</td>\n",
              "      <td>1241</td>\n",
              "      <td>0</td>\n",
              "      <td>0</td>\n",
              "      <td>0.00</td>\n",
              "      <td>1306</td>\n",
              "      <td>squad-fpp</td>\n",
              "      <td>28</td>\n",
              "      <td>26</td>\n",
              "      <td>-1</td>\n",
              "      <td>0</td>\n",
              "      <td>0.0000</td>\n",
              "      <td>0</td>\n",
              "      <td>0.00</td>\n",
              "      <td>0</td>\n",
              "      <td>0</td>\n",
              "      <td>244.80</td>\n",
              "      <td>1</td>\n",
              "      <td>1466</td>\n",
              "      <td>0.4444</td>\n",
              "    </tr>\n",
              "    <tr>\n",
              "      <th>1</th>\n",
              "      <td>eef90569b9d03c</td>\n",
              "      <td>684d5656442f9e</td>\n",
              "      <td>aeb375fc57110c</td>\n",
              "      <td>0</td>\n",
              "      <td>0</td>\n",
              "      <td>91.47</td>\n",
              "      <td>0</td>\n",
              "      <td>0</td>\n",
              "      <td>0</td>\n",
              "      <td>57</td>\n",
              "      <td>0</td>\n",
              "      <td>0</td>\n",
              "      <td>0</td>\n",
              "      <td>0.00</td>\n",
              "      <td>1777</td>\n",
              "      <td>squad-fpp</td>\n",
              "      <td>26</td>\n",
              "      <td>25</td>\n",
              "      <td>1484</td>\n",
              "      <td>0</td>\n",
              "      <td>0.0045</td>\n",
              "      <td>0</td>\n",
              "      <td>11.04</td>\n",
              "      <td>0</td>\n",
              "      <td>0</td>\n",
              "      <td>1434.00</td>\n",
              "      <td>5</td>\n",
              "      <td>0</td>\n",
              "      <td>0.6400</td>\n",
              "    </tr>\n",
              "    <tr>\n",
              "      <th>2</th>\n",
              "      <td>1eaf90ac73de72</td>\n",
              "      <td>6a4a42c3245a74</td>\n",
              "      <td>110163d8bb94ae</td>\n",
              "      <td>1</td>\n",
              "      <td>0</td>\n",
              "      <td>68.00</td>\n",
              "      <td>0</td>\n",
              "      <td>0</td>\n",
              "      <td>0</td>\n",
              "      <td>47</td>\n",
              "      <td>0</td>\n",
              "      <td>0</td>\n",
              "      <td>0</td>\n",
              "      <td>0.00</td>\n",
              "      <td>1318</td>\n",
              "      <td>duo</td>\n",
              "      <td>50</td>\n",
              "      <td>47</td>\n",
              "      <td>1491</td>\n",
              "      <td>0</td>\n",
              "      <td>0.0000</td>\n",
              "      <td>0</td>\n",
              "      <td>0.00</td>\n",
              "      <td>0</td>\n",
              "      <td>0</td>\n",
              "      <td>161.80</td>\n",
              "      <td>2</td>\n",
              "      <td>0</td>\n",
              "      <td>0.7755</td>\n",
              "    </tr>\n",
              "    <tr>\n",
              "      <th>3</th>\n",
              "      <td>4616d365dd2853</td>\n",
              "      <td>a930a9c79cd721</td>\n",
              "      <td>f1f1f4ef412d7e</td>\n",
              "      <td>0</td>\n",
              "      <td>0</td>\n",
              "      <td>32.90</td>\n",
              "      <td>0</td>\n",
              "      <td>0</td>\n",
              "      <td>0</td>\n",
              "      <td>75</td>\n",
              "      <td>0</td>\n",
              "      <td>0</td>\n",
              "      <td>0</td>\n",
              "      <td>0.00</td>\n",
              "      <td>1436</td>\n",
              "      <td>squad-fpp</td>\n",
              "      <td>31</td>\n",
              "      <td>30</td>\n",
              "      <td>1408</td>\n",
              "      <td>0</td>\n",
              "      <td>0.0000</td>\n",
              "      <td>0</td>\n",
              "      <td>0.00</td>\n",
              "      <td>0</td>\n",
              "      <td>0</td>\n",
              "      <td>202.70</td>\n",
              "      <td>3</td>\n",
              "      <td>0</td>\n",
              "      <td>0.1667</td>\n",
              "    </tr>\n",
              "    <tr>\n",
              "      <th>4</th>\n",
              "      <td>315c96c26c9aac</td>\n",
              "      <td>de04010b3458dd</td>\n",
              "      <td>6dc8ff871e21e6</td>\n",
              "      <td>0</td>\n",
              "      <td>0</td>\n",
              "      <td>100.00</td>\n",
              "      <td>0</td>\n",
              "      <td>0</td>\n",
              "      <td>0</td>\n",
              "      <td>45</td>\n",
              "      <td>0</td>\n",
              "      <td>1</td>\n",
              "      <td>1</td>\n",
              "      <td>58.53</td>\n",
              "      <td>1424</td>\n",
              "      <td>solo-fpp</td>\n",
              "      <td>97</td>\n",
              "      <td>95</td>\n",
              "      <td>1560</td>\n",
              "      <td>0</td>\n",
              "      <td>0.0000</td>\n",
              "      <td>0</td>\n",
              "      <td>0.00</td>\n",
              "      <td>0</td>\n",
              "      <td>0</td>\n",
              "      <td>49.75</td>\n",
              "      <td>2</td>\n",
              "      <td>0</td>\n",
              "      <td>0.1875</td>\n",
              "    </tr>\n",
              "  </tbody>\n",
              "</table>\n",
              "</div>"
            ],
            "text/plain": [
              "               Id         groupId  ... winPoints  winPlacePerc\n",
              "0  7f96b2f878858a  4d4b580de459be  ...      1466        0.4444\n",
              "1  eef90569b9d03c  684d5656442f9e  ...         0        0.6400\n",
              "2  1eaf90ac73de72  6a4a42c3245a74  ...         0        0.7755\n",
              "3  4616d365dd2853  a930a9c79cd721  ...         0        0.1667\n",
              "4  315c96c26c9aac  de04010b3458dd  ...         0        0.1875\n",
              "\n",
              "[5 rows x 29 columns]"
            ]
          },
          "metadata": {
            "tags": []
          },
          "execution_count": 4
        }
      ]
    },
    {
      "cell_type": "code",
      "metadata": {
        "id": "WG0rVq0i0glT",
        "outputId": "0a81a18d-1544-4ffd-c7f0-b5e6fda23dbd",
        "colab": {
          "base_uri": "https://localhost:8080/",
          "height": 527
        }
      },
      "source": [
        "data.isnull().sum()"
      ],
      "execution_count": 5,
      "outputs": [
        {
          "output_type": "execute_result",
          "data": {
            "text/plain": [
              "Id                 0\n",
              "groupId            0\n",
              "matchId            0\n",
              "assists            0\n",
              "boosts             0\n",
              "damageDealt        0\n",
              "DBNOs              0\n",
              "headshotKills      0\n",
              "heals              0\n",
              "killPlace          0\n",
              "killPoints         0\n",
              "kills              0\n",
              "killStreaks        0\n",
              "longestKill        0\n",
              "matchDuration      0\n",
              "matchType          0\n",
              "maxPlace           0\n",
              "numGroups          0\n",
              "rankPoints         0\n",
              "revives            0\n",
              "rideDistance       0\n",
              "roadKills          0\n",
              "swimDistance       0\n",
              "teamKills          0\n",
              "vehicleDestroys    0\n",
              "walkDistance       0\n",
              "weaponsAcquired    0\n",
              "winPoints          0\n",
              "winPlacePerc       1\n",
              "dtype: int64"
            ]
          },
          "metadata": {
            "tags": []
          },
          "execution_count": 5
        }
      ]
    },
    {
      "cell_type": "code",
      "metadata": {
        "id": "BPnnmOJ6M6m0",
        "outputId": "257af035-7560-4403-b2b5-e221eb349524",
        "colab": {
          "base_uri": "https://localhost:8080/",
          "height": 527
        }
      },
      "source": [
        "data.dtypes"
      ],
      "execution_count": 6,
      "outputs": [
        {
          "output_type": "execute_result",
          "data": {
            "text/plain": [
              "Id                  object\n",
              "groupId             object\n",
              "matchId             object\n",
              "assists              int64\n",
              "boosts               int64\n",
              "damageDealt        float64\n",
              "DBNOs                int64\n",
              "headshotKills        int64\n",
              "heals                int64\n",
              "killPlace            int64\n",
              "killPoints           int64\n",
              "kills                int64\n",
              "killStreaks          int64\n",
              "longestKill        float64\n",
              "matchDuration        int64\n",
              "matchType           object\n",
              "maxPlace             int64\n",
              "numGroups            int64\n",
              "rankPoints           int64\n",
              "revives              int64\n",
              "rideDistance       float64\n",
              "roadKills            int64\n",
              "swimDistance       float64\n",
              "teamKills            int64\n",
              "vehicleDestroys      int64\n",
              "walkDistance       float64\n",
              "weaponsAcquired      int64\n",
              "winPoints            int64\n",
              "winPlacePerc       float64\n",
              "dtype: object"
            ]
          },
          "metadata": {
            "tags": []
          },
          "execution_count": 6
        }
      ]
    },
    {
      "cell_type": "markdown",
      "metadata": {
        "id": "SimEUCdGS0M9"
      },
      "source": [
        "Como primeiro passo na limpeza dos dados, foi feito a verificação de ocorrência de valores nulos e a verificação dos tipos de cada coluna. Foi detectado um valor nulo e os tipos estão corretos. Mas antes de remover esse dado nulo, vale observar algumas informações sobre os atributos. Os atributos `killPoints`, `rankPoints` e `winPoints` tem considerações quanto a ocorrência do valor -1 e dão orientação da interpretação que deve ser feita. Vamos observar isso."
      ]
    },
    {
      "cell_type": "code",
      "metadata": {
        "id": "nGFeOFPSSaO9",
        "outputId": "ba08459b-6c47-4c5a-d298-0280f050afa9",
        "colab": {
          "base_uri": "https://localhost:8080/",
          "height": 34
        }
      },
      "source": [
        "data.query('killPoints == -1').shape[0]"
      ],
      "execution_count": 7,
      "outputs": [
        {
          "output_type": "execute_result",
          "data": {
            "text/plain": [
              "0"
            ]
          },
          "metadata": {
            "tags": []
          },
          "execution_count": 7
        }
      ]
    },
    {
      "cell_type": "code",
      "metadata": {
        "id": "bnCe3JF2Yqn6",
        "outputId": "e7a54a4f-00d9-4e61-9f4a-4003641af28d",
        "colab": {
          "base_uri": "https://localhost:8080/",
          "height": 34
        }
      },
      "source": [
        "data.query('rankPoints == -1').shape[0]"
      ],
      "execution_count": 8,
      "outputs": [
        {
          "output_type": "execute_result",
          "data": {
            "text/plain": [
              "1701810"
            ]
          },
          "metadata": {
            "tags": []
          },
          "execution_count": 8
        }
      ]
    },
    {
      "cell_type": "code",
      "metadata": {
        "id": "zqRgCXevZXFX",
        "outputId": "bdf49a0a-169d-4a9f-99de-95ec2f3c1af2",
        "colab": {
          "base_uri": "https://localhost:8080/",
          "height": 34
        }
      },
      "source": [
        "data.query('winPoints == -1').shape[0]"
      ],
      "execution_count": 9,
      "outputs": [
        {
          "output_type": "execute_result",
          "data": {
            "text/plain": [
              "0"
            ]
          },
          "metadata": {
            "tags": []
          },
          "execution_count": 9
        }
      ]
    },
    {
      "cell_type": "markdown",
      "metadata": {
        "id": "c90Hd0P6ZdEI"
      },
      "source": [
        "Dos 3 atributos que tinham ressalvas sobre a interpretação do valor -1, somente a variável `rankPoints` apresenta a ocorrência desse valor. A sua descrição diz: Classificação do jogador semelhante a Elo. Esta classificação é inconsistente e está sendo descontinuada na próxima versão da API, então use com cuidado. Valor de -1 ocorre em “Nenhum”.\n",
        "\n",
        "Levando em consideração a ressalva feita na descrição dio atributo `rankPoints` e a presença de um valor nulo no dataset, a abordagem será remover a coluna `rankPoints` e remover a linha que contém valor nulo"
      ]
    },
    {
      "cell_type": "code",
      "metadata": {
        "id": "KmBbPoxXmn2e"
      },
      "source": [
        "data.drop('rankPoints', axis=1, inplace=True)\n",
        "data.dropna(axis=0, inplace=True)"
      ],
      "execution_count": 10,
      "outputs": []
    },
    {
      "cell_type": "code",
      "metadata": {
        "id": "GlcokD0YnYzZ",
        "outputId": "a7a508f5-5cf8-48d0-d5d8-057a0f7f0caf",
        "colab": {
          "base_uri": "https://localhost:8080/",
          "height": 224
        }
      },
      "source": [
        "data.head()"
      ],
      "execution_count": 11,
      "outputs": [
        {
          "output_type": "execute_result",
          "data": {
            "text/html": [
              "<div>\n",
              "<style scoped>\n",
              "    .dataframe tbody tr th:only-of-type {\n",
              "        vertical-align: middle;\n",
              "    }\n",
              "\n",
              "    .dataframe tbody tr th {\n",
              "        vertical-align: top;\n",
              "    }\n",
              "\n",
              "    .dataframe thead th {\n",
              "        text-align: right;\n",
              "    }\n",
              "</style>\n",
              "<table border=\"1\" class=\"dataframe\">\n",
              "  <thead>\n",
              "    <tr style=\"text-align: right;\">\n",
              "      <th></th>\n",
              "      <th>Id</th>\n",
              "      <th>groupId</th>\n",
              "      <th>matchId</th>\n",
              "      <th>assists</th>\n",
              "      <th>boosts</th>\n",
              "      <th>damageDealt</th>\n",
              "      <th>DBNOs</th>\n",
              "      <th>headshotKills</th>\n",
              "      <th>heals</th>\n",
              "      <th>killPlace</th>\n",
              "      <th>killPoints</th>\n",
              "      <th>kills</th>\n",
              "      <th>killStreaks</th>\n",
              "      <th>longestKill</th>\n",
              "      <th>matchDuration</th>\n",
              "      <th>matchType</th>\n",
              "      <th>maxPlace</th>\n",
              "      <th>numGroups</th>\n",
              "      <th>revives</th>\n",
              "      <th>rideDistance</th>\n",
              "      <th>roadKills</th>\n",
              "      <th>swimDistance</th>\n",
              "      <th>teamKills</th>\n",
              "      <th>vehicleDestroys</th>\n",
              "      <th>walkDistance</th>\n",
              "      <th>weaponsAcquired</th>\n",
              "      <th>winPoints</th>\n",
              "      <th>winPlacePerc</th>\n",
              "    </tr>\n",
              "  </thead>\n",
              "  <tbody>\n",
              "    <tr>\n",
              "      <th>0</th>\n",
              "      <td>7f96b2f878858a</td>\n",
              "      <td>4d4b580de459be</td>\n",
              "      <td>a10357fd1a4a91</td>\n",
              "      <td>0</td>\n",
              "      <td>0</td>\n",
              "      <td>0.00</td>\n",
              "      <td>0</td>\n",
              "      <td>0</td>\n",
              "      <td>0</td>\n",
              "      <td>60</td>\n",
              "      <td>1241</td>\n",
              "      <td>0</td>\n",
              "      <td>0</td>\n",
              "      <td>0.00</td>\n",
              "      <td>1306</td>\n",
              "      <td>squad-fpp</td>\n",
              "      <td>28</td>\n",
              "      <td>26</td>\n",
              "      <td>0</td>\n",
              "      <td>0.0000</td>\n",
              "      <td>0</td>\n",
              "      <td>0.00</td>\n",
              "      <td>0</td>\n",
              "      <td>0</td>\n",
              "      <td>244.80</td>\n",
              "      <td>1</td>\n",
              "      <td>1466</td>\n",
              "      <td>0.4444</td>\n",
              "    </tr>\n",
              "    <tr>\n",
              "      <th>1</th>\n",
              "      <td>eef90569b9d03c</td>\n",
              "      <td>684d5656442f9e</td>\n",
              "      <td>aeb375fc57110c</td>\n",
              "      <td>0</td>\n",
              "      <td>0</td>\n",
              "      <td>91.47</td>\n",
              "      <td>0</td>\n",
              "      <td>0</td>\n",
              "      <td>0</td>\n",
              "      <td>57</td>\n",
              "      <td>0</td>\n",
              "      <td>0</td>\n",
              "      <td>0</td>\n",
              "      <td>0.00</td>\n",
              "      <td>1777</td>\n",
              "      <td>squad-fpp</td>\n",
              "      <td>26</td>\n",
              "      <td>25</td>\n",
              "      <td>0</td>\n",
              "      <td>0.0045</td>\n",
              "      <td>0</td>\n",
              "      <td>11.04</td>\n",
              "      <td>0</td>\n",
              "      <td>0</td>\n",
              "      <td>1434.00</td>\n",
              "      <td>5</td>\n",
              "      <td>0</td>\n",
              "      <td>0.6400</td>\n",
              "    </tr>\n",
              "    <tr>\n",
              "      <th>2</th>\n",
              "      <td>1eaf90ac73de72</td>\n",
              "      <td>6a4a42c3245a74</td>\n",
              "      <td>110163d8bb94ae</td>\n",
              "      <td>1</td>\n",
              "      <td>0</td>\n",
              "      <td>68.00</td>\n",
              "      <td>0</td>\n",
              "      <td>0</td>\n",
              "      <td>0</td>\n",
              "      <td>47</td>\n",
              "      <td>0</td>\n",
              "      <td>0</td>\n",
              "      <td>0</td>\n",
              "      <td>0.00</td>\n",
              "      <td>1318</td>\n",
              "      <td>duo</td>\n",
              "      <td>50</td>\n",
              "      <td>47</td>\n",
              "      <td>0</td>\n",
              "      <td>0.0000</td>\n",
              "      <td>0</td>\n",
              "      <td>0.00</td>\n",
              "      <td>0</td>\n",
              "      <td>0</td>\n",
              "      <td>161.80</td>\n",
              "      <td>2</td>\n",
              "      <td>0</td>\n",
              "      <td>0.7755</td>\n",
              "    </tr>\n",
              "    <tr>\n",
              "      <th>3</th>\n",
              "      <td>4616d365dd2853</td>\n",
              "      <td>a930a9c79cd721</td>\n",
              "      <td>f1f1f4ef412d7e</td>\n",
              "      <td>0</td>\n",
              "      <td>0</td>\n",
              "      <td>32.90</td>\n",
              "      <td>0</td>\n",
              "      <td>0</td>\n",
              "      <td>0</td>\n",
              "      <td>75</td>\n",
              "      <td>0</td>\n",
              "      <td>0</td>\n",
              "      <td>0</td>\n",
              "      <td>0.00</td>\n",
              "      <td>1436</td>\n",
              "      <td>squad-fpp</td>\n",
              "      <td>31</td>\n",
              "      <td>30</td>\n",
              "      <td>0</td>\n",
              "      <td>0.0000</td>\n",
              "      <td>0</td>\n",
              "      <td>0.00</td>\n",
              "      <td>0</td>\n",
              "      <td>0</td>\n",
              "      <td>202.70</td>\n",
              "      <td>3</td>\n",
              "      <td>0</td>\n",
              "      <td>0.1667</td>\n",
              "    </tr>\n",
              "    <tr>\n",
              "      <th>4</th>\n",
              "      <td>315c96c26c9aac</td>\n",
              "      <td>de04010b3458dd</td>\n",
              "      <td>6dc8ff871e21e6</td>\n",
              "      <td>0</td>\n",
              "      <td>0</td>\n",
              "      <td>100.00</td>\n",
              "      <td>0</td>\n",
              "      <td>0</td>\n",
              "      <td>0</td>\n",
              "      <td>45</td>\n",
              "      <td>0</td>\n",
              "      <td>1</td>\n",
              "      <td>1</td>\n",
              "      <td>58.53</td>\n",
              "      <td>1424</td>\n",
              "      <td>solo-fpp</td>\n",
              "      <td>97</td>\n",
              "      <td>95</td>\n",
              "      <td>0</td>\n",
              "      <td>0.0000</td>\n",
              "      <td>0</td>\n",
              "      <td>0.00</td>\n",
              "      <td>0</td>\n",
              "      <td>0</td>\n",
              "      <td>49.75</td>\n",
              "      <td>2</td>\n",
              "      <td>0</td>\n",
              "      <td>0.1875</td>\n",
              "    </tr>\n",
              "  </tbody>\n",
              "</table>\n",
              "</div>"
            ],
            "text/plain": [
              "               Id         groupId  ... winPoints  winPlacePerc\n",
              "0  7f96b2f878858a  4d4b580de459be  ...      1466        0.4444\n",
              "1  eef90569b9d03c  684d5656442f9e  ...         0        0.6400\n",
              "2  1eaf90ac73de72  6a4a42c3245a74  ...         0        0.7755\n",
              "3  4616d365dd2853  a930a9c79cd721  ...         0        0.1667\n",
              "4  315c96c26c9aac  de04010b3458dd  ...         0        0.1875\n",
              "\n",
              "[5 rows x 28 columns]"
            ]
          },
          "metadata": {
            "tags": []
          },
          "execution_count": 11
        }
      ]
    },
    {
      "cell_type": "code",
      "metadata": {
        "id": "OfumyEbKn6_N",
        "outputId": "50cb71cc-2eed-4695-d098-26f06b8b1c92",
        "colab": {
          "base_uri": "https://localhost:8080/",
          "height": 510
        }
      },
      "source": [
        "data.isnull().sum()"
      ],
      "execution_count": 12,
      "outputs": [
        {
          "output_type": "execute_result",
          "data": {
            "text/plain": [
              "Id                 0\n",
              "groupId            0\n",
              "matchId            0\n",
              "assists            0\n",
              "boosts             0\n",
              "damageDealt        0\n",
              "DBNOs              0\n",
              "headshotKills      0\n",
              "heals              0\n",
              "killPlace          0\n",
              "killPoints         0\n",
              "kills              0\n",
              "killStreaks        0\n",
              "longestKill        0\n",
              "matchDuration      0\n",
              "matchType          0\n",
              "maxPlace           0\n",
              "numGroups          0\n",
              "revives            0\n",
              "rideDistance       0\n",
              "roadKills          0\n",
              "swimDistance       0\n",
              "teamKills          0\n",
              "vehicleDestroys    0\n",
              "walkDistance       0\n",
              "weaponsAcquired    0\n",
              "winPoints          0\n",
              "winPlacePerc       0\n",
              "dtype: int64"
            ]
          },
          "metadata": {
            "tags": []
          },
          "execution_count": 12
        }
      ]
    },
    {
      "cell_type": "markdown",
      "metadata": {
        "id": "w1NC7A8pr1bE"
      },
      "source": [
        "Depois da parte de limpeza, já estamos prontos para seguir com a parte da análise.\n",
        "\n",
        "### Análise dos dados\n",
        "\n",
        "Temos vários atributos aqui e, com eles, várias possibilidades de caminhos que podemos seguir e até mesmo possibilidades de diferentes tarefas. A atividade proposta originalmente na competição do Kaggle é de prever a probabilidade de um jogador (jogando solo ou em squad) de vencer a partida dado um conjunto de estatísticas de jogo do jogador (`winPlacePerc`). Você pode pensar nesse número como sendo a classificação final do jogador na partida, já que os valores estão entre 0 e 1 - ou entre 0 e 100 dividido por 100 - e o número de jogadores em uma partida é 100. Outra coisa que pode ser feita é mudar o atributo alvo para executar uma tarefa de classificação, mas vamos pensar nisso posteriormente.\n",
        "\n",
        "No PUBG existem tipos de partida que são uma junção de composição de times (solo, duo, squad) e visualização de jogo (primeira pessoa e terceira pessoa). Opto por focar em analisar apenas dados de tipo de partida que contém primeira pessoa porque é um modo de visualização de jogo que tem um campo de visão limitado em relação ao modo de terceira pessoa, o que traz um nível de dificuldade maior na jogabilidade.\n",
        "\n",
        "**PUBG em primeira pessoa**\n",
        "![PUBG em primeira pessoa](https://www.windowsclub.com.br/wp-content/uploads/2018/01/pubg-fps.jpg)\n",
        "\n",
        "\n",
        "**PUBG em terceira pessoa**\n",
        "![PUBG em terceira pessoa](https://i.vimeocdn.com/video/687342755_640.jpg)"
      ]
    },
    {
      "cell_type": "code",
      "metadata": {
        "id": "oT7ph80AoWwN",
        "outputId": "00a69eca-9469-4a8c-911e-452d9f81567c",
        "colab": {
          "base_uri": "https://localhost:8080/",
          "height": 85
        }
      },
      "source": [
        "data.matchType.unique()"
      ],
      "execution_count": 13,
      "outputs": [
        {
          "output_type": "execute_result",
          "data": {
            "text/plain": [
              "array(['squad-fpp', 'duo', 'solo-fpp', 'squad', 'duo-fpp', 'solo',\n",
              "       'normal-squad-fpp', 'crashfpp', 'flaretpp', 'normal-solo-fpp',\n",
              "       'flarefpp', 'normal-duo-fpp', 'normal-duo', 'normal-squad',\n",
              "       'crashtpp', 'normal-solo'], dtype=object)"
            ]
          },
          "metadata": {
            "tags": []
          },
          "execution_count": 13
        }
      ]
    },
    {
      "cell_type": "markdown",
      "metadata": {
        "id": "lKPmAGDyTY3n"
      },
      "source": [
        "A visualização padrão do jogo é em terceira pessoa. Veja que apenas os modos FPP são citados nos valores do atributo. Os modos que contém \"flare\" e \"crash\" são eventos e não farão parte da análise. Os modos que não contém \"normal\" são de partidas chamadas \"ranqueadas\" onde os jogadores acumulam pontos para subir na classificação geral do jogo."
      ]
    },
    {
      "cell_type": "code",
      "metadata": {
        "id": "6KYVBC40TPgt",
        "outputId": "699e9958-31b3-4151-900b-4031481058a3",
        "colab": {
          "base_uri": "https://localhost:8080/",
          "height": 119
        }
      },
      "source": [
        "match_modes = ['squad-fpp', 'solo-fpp', 'duo-fpp', 'normal-squad-fpp', 'normal-solo-fpp', 'normal-duo-fpp']\n",
        "\n",
        "for mode in match_modes:\n",
        "    print(f\"{mode}: {data.query('matchType == @mode').shape[0]} mathces\")"
      ],
      "execution_count": 14,
      "outputs": [
        {
          "output_type": "stream",
          "text": [
            "squad-fpp: 1756186 mathces\n",
            "solo-fpp: 536761 mathces\n",
            "duo-fpp: 996691 mathces\n",
            "normal-squad-fpp: 17174 mathces\n",
            "normal-solo-fpp: 1682 mathces\n",
            "normal-duo-fpp: 5489 mathces\n"
          ],
          "name": "stdout"
        }
      ]
    },
    {
      "cell_type": "markdown",
      "metadata": {
        "id": "04dlSsLAquf8"
      },
      "source": [
        "Considero válido olhar o número de registros em relação aos valores de algum atributo porque é possível ter uma noção de como os dados estão distribuídos de acordo com os valores."
      ]
    },
    {
      "cell_type": "markdown",
      "metadata": {
        "id": "vQzq5kXiwUbP"
      },
      "source": [
        "### Histogramas"
      ]
    },
    {
      "cell_type": "code",
      "metadata": {
        "id": "TtPff_9nUDEQ"
      },
      "source": [
        "dt_squad_fpp = data.query(\"matchType == 'squad-fpp'\")\n",
        "dt_solo_fpp = data.query(\"matchType == 'solo-fpp'\")\n",
        "dt_duo_fpp = data.query(\"matchType == 'duo-fpp'\")\n",
        "dt_normal_squad_fpp = data.query(\"matchType == 'normal-squad-fpp'\")\n",
        "dt_normal_solo_fpp = data.query(\"matchType == 'normal-solo-fpp'\")\n",
        "dt_normal_duo_fpp = data.query(\"matchType == 'normal-duo-fpp'\")"
      ],
      "execution_count": 15,
      "outputs": []
    },
    {
      "cell_type": "code",
      "metadata": {
        "id": "QgPWsAmDtnvK",
        "outputId": "b55beefc-6d19-4d68-aae9-a3cad3a2dc19",
        "colab": {
          "base_uri": "https://localhost:8080/",
          "height": 295
        }
      },
      "source": [
        "plt.hist(dt_squad_fpp.winPlacePerc, 10)\n",
        "plt.title('Frequência da probablidade de vitória no modo squad FPP ranqueado')\n",
        "plt.xlabel('Probablidades')\n",
        "plt.ylabel('Quantidade')\n",
        "plt.grid(True)\n",
        "plt.show()"
      ],
      "execution_count": 16,
      "outputs": [
        {
          "output_type": "display_data",
          "data": {
            "image/png": "[encoded data removed]",
            "text/plain": [
              "<Figure size 432x288 with 1 Axes>"
            ]
          },
          "metadata": {
            "tags": [],
            "needs_background": "light"
          }
        }
      ]
    },
    {
      "cell_type": "markdown",
      "metadata": {
        "id": "qHPrUJLhlaiw"
      },
      "source": [
        "Esse histograma nos mostra que temos um maior concentração de registros de jogadores mais à direita do gráfico, na faixa de valores entre 0.0 e 0.2 e depois a distribuição fica mais equilibrada."
      ]
    },
    {
      "cell_type": "code",
      "metadata": {
        "id": "Sp1IIzKzuT-O",
        "outputId": "b0581404-31c4-45ed-ee8c-0d8d9fbae215",
        "colab": {
          "base_uri": "https://localhost:8080/",
          "height": 295
        }
      },
      "source": [
        "plt.hist(dt_solo_fpp.winPlacePerc, 10)\n",
        "plt.title('Frequência da probablidade de vitória no modo solo FPP ranqueado')\n",
        "plt.xlabel('Probablidades')\n",
        "plt.ylabel('Quantidade')\n",
        "plt.grid(True)\n",
        "plt.show()"
      ],
      "execution_count": 17,
      "outputs": [
        {
          "output_type": "display_data",
          "data": {
            "image/png": "[encoded data removed]",
            "text/plain": [
              "<Figure size 432x288 with 1 Axes>"
            ]
          },
          "metadata": {
            "tags": [],
            "needs_background": "light"
          }
        }
      ]
    },
    {
      "cell_type": "markdown",
      "metadata": {
        "id": "CxEYzJQ8qQLG"
      },
      "source": [
        "Aqui a distribuição está bem mais bem mais equilibrada com um pequeno pico no primeiro bloco."
      ]
    },
    {
      "cell_type": "code",
      "metadata": {
        "id": "qDocoIZZ6Uxc",
        "outputId": "65fa82df-7b79-480d-f3ca-7fba6d22e8dc",
        "colab": {
          "base_uri": "https://localhost:8080/",
          "height": 295
        }
      },
      "source": [
        "plt.hist(dt_duo_fpp.winPlacePerc, 10)\n",
        "plt.title('Frequência da probablidade de vitória no modo duo FPP ranqueado')\n",
        "plt.xlabel('Probablidades')\n",
        "plt.ylabel('Quantidade')\n",
        "plt.grid(True)\n",
        "plt.show()"
      ],
      "execution_count": 18,
      "outputs": [
        {
          "output_type": "display_data",
          "data": {
            "image/png": "[encoded data removed]",
            "text/plain": [
              "<Figure size 432x288 with 1 Axes>"
            ]
          },
          "metadata": {
            "tags": [],
            "needs_background": "light"
          }
        }
      ]
    },
    {
      "cell_type": "markdown",
      "metadata": {
        "id": "afK67CvIqmk2"
      },
      "source": [
        "Aqui a distribuição tem um comportamento mais próximo ao primeiro histograma, com uma concentração maior no início e uma leve descida na região central e volta a inclinar levemente na extrema esquerda."
      ]
    },
    {
      "cell_type": "code",
      "metadata": {
        "id": "LAsdmZFb65nM",
        "outputId": "e2ed412f-7874-4f1d-855c-a8ef7c50dc62",
        "colab": {
          "base_uri": "https://localhost:8080/",
          "height": 295
        }
      },
      "source": [
        "plt.hist(dt_normal_squad_fpp.winPlacePerc, 10)\n",
        "plt.title('Frequência da probablidade de vitória no modo squad FPP normal')\n",
        "plt.xlabel('Probablidades')\n",
        "plt.ylabel('Quantidade')\n",
        "plt.grid(True)\n",
        "plt.show()"
      ],
      "execution_count": 19,
      "outputs": [
        {
          "output_type": "display_data",
          "data": {
            "image/png": "[encoded data removed]",
            "text/plain": [
              "<Figure size 432x288 with 1 Axes>"
            ]
          },
          "metadata": {
            "tags": [],
            "needs_background": "light"
          }
        }
      ]
    },
    {
      "cell_type": "markdown",
      "metadata": {
        "id": "FYh-y9TfrNyx"
      },
      "source": [
        "Nossa... esse histograma já mostra uma distribuição bem diferente dos primeiros três gráficos. Esse é o primeiro gráfico dos modos de jogo para partidas que não são ranqueadas."
      ]
    },
    {
      "cell_type": "code",
      "metadata": {
        "id": "rGNv3NpokV9V",
        "outputId": "de8d3ec1-9768-434e-ee74-e137d95cc1aa",
        "colab": {
          "base_uri": "https://localhost:8080/",
          "height": 295
        }
      },
      "source": [
        "plt.hist(dt_normal_solo_fpp.winPlacePerc, 10)\n",
        "plt.title('Frequência da probablidade de vitória no modo solo FPP normal')\n",
        "plt.xlabel('Probablidades')\n",
        "plt.ylabel('Quantidade')\n",
        "plt.grid(True)\n",
        "plt.show()"
      ],
      "execution_count": 20,
      "outputs": [
        {
          "output_type": "display_data",
          "data": {
            "image/png": "[encoded data removed]",
            "text/plain": [
              "<Figure size 432x288 with 1 Axes>"
            ]
          },
          "metadata": {
            "tags": [],
            "needs_background": "light"
          }
        }
      ]
    },
    {
      "cell_type": "markdown",
      "metadata": {
        "id": "azyESst5rZrV"
      },
      "source": [
        "Já nesse histograma temos uma distribuição um pouco menos instável em relação ao gráfico anterior.\n",
        "\n",
        "O último gráfico apresenta uma menor irregularidade mas seguindo o mesmo padrão de distribuição dos últimos dois gráficos."
      ]
    },
    {
      "cell_type": "code",
      "metadata": {
        "id": "u1aO4rn2kfmk",
        "outputId": "9e0db2ad-5190-4227-935e-ce2742c031ba",
        "colab": {
          "base_uri": "https://localhost:8080/",
          "height": 295
        }
      },
      "source": [
        "plt.hist(dt_normal_duo_fpp.winPlacePerc, 10)\n",
        "plt.title('Frequência da probablidade de vitória no modo duo FPP normal')\n",
        "plt.xlabel('Probablidades')\n",
        "plt.ylabel('Quantidade')\n",
        "plt.grid(True)\n",
        "plt.show()"
      ],
      "execution_count": 21,
      "outputs": [
        {
          "output_type": "display_data",
          "data": {
            "image/png": "[encoded data removed]",
            "text/plain": [
              "<Figure size 432x288 with 1 Axes>"
            ]
          },
          "metadata": {
            "tags": [],
            "needs_background": "light"
          }
        }
      ]
    },
    {
      "cell_type": "markdown",
      "metadata": {
        "id": "7i48C3pWk4RZ"
      },
      "source": [
        "Nos histogramas conseguimos observar a distribuição dos possíveis valores do atributo alvo para cada valor do atributo. E você pode perfeitamente me questionar: mas por quê você fez isso? Em primeiro lugar, observando os valores do atributo alvo com maior frequência, eu posso ter uma visão geral dos dados e fiz isso com os tipos de partida porque um deles vai ser escolhido para ser utilizado no restante do pipe line. Uma coisa a ser ressaltada é que, independente do tipo de partida, cada registro se refere a uma performance de um jogador.\n",
        "\n",
        "De maneira geral, segundo o que os histogramas nos mostram, é que as partidas ranqueadas (3 primeiros histogramas) tendem a ser mais equilibradas que as partidas normais (3 últimos histogramas). Isso se deve ao fato de que apenas jogadores com um certo nível de experiência e habilidade jogam partidas ranqueadas, até porque é necessário atingir um determinado nível dentro jogo para ter acesso às partidas ranqueadas; enquanto que as partidas normais comportam jogadores de diferentes níveis, incluindo iniciantes."
      ]
    },
    {
      "cell_type": "markdown",
      "metadata": {
        "id": "zxcqt4kpDRFw"
      },
      "source": [
        "### Discutindo a abordagem de analisar um modo de partida em específico\n",
        "\n",
        "Antes de escolher o tipo da partida que vai ser analisado a partir de agora, vale comentar que esse trabalho poderia ser feito sem a abordagem que será utilizada aqui. Contudo, os modos de jogo apresentam dinâmicas diferentes que são inerentes à sua natureza e isso reflete em como o jogador atua durante uma partida, seja jogando solo ou em grupo, seja jogando por diversão nas partidas normais ou para competir nas ranqueadas e em eventos.\n",
        "\n",
        "Dito isso, vamos seguir analisando o modo squad FPP ranqueado. O modo squad é um modo de jogo que requer um nível mais elevado de estratégia se comparado com o modo solo, pois você tem várrias possibilidades de abordagem para avançar em cima do squad inimigo, você tem a possibilidade de curar um parceiro quando ele é derrubado, pode utilizar várias técnicas de distração para efetuar um avanço, etc. Então analisar esses atributos pela óptica do modo squad traz um desafio a mais para podermos entender o que cada atributo nos diz.\n",
        "\n",
        "Vale lembrar que o modo squad no PUBG pode ser um squad com 3 jogadores (que dá 99 jogadores no mapa) ou um squad com 4 jogadores e essa opção pode ser escolhida pelo jogador antes de iniciar a partida. Quando é selecionado o modo squad com 3 jogadores por grupo, você joga em um mapa onde todos os squads possuem 3 jogadores e, de forma análoga, o mesmo acontece quando você seleciona o modo squad com 4 jogadores."
      ]
    },
    {
      "cell_type": "markdown",
      "metadata": {
        "id": "7H-8HznbNUyP"
      },
      "source": [
        "### Próximas etapas\n",
        "\n",
        "Uma das coisas que poderia ser feita nesse ponto é analisar correlações entre variáveis, mas o que pode ser feito, que também é interessante, é rodar um modelo com todos os atributos para depois, quem sabe, trabalhar em um processo de selecionar variáveis e, antes disso, temos que normalizar os dados e organizar os dados.\n",
        "\n",
        "Abaixo já estamos começando a divisão dos subsets e retirando as variáveis que não serão úteis para o modelo."
      ]
    },
    {
      "cell_type": "code",
      "metadata": {
        "id": "g0lJSi39FQzs"
      },
      "source": [
        "X = dt_squad_fpp.drop(['Id', 'groupId', 'matchId', 'matchType', 'winPlacePerc'], axis=1)\n",
        "y = dt_squad_fpp.winPlacePerc"
      ],
      "execution_count": 22,
      "outputs": []
    },
    {
      "cell_type": "code",
      "metadata": {
        "id": "3Q1O7WdMLo1m",
        "outputId": "20eb95d2-8f17-40bf-9e78-0945d6660117",
        "colab": {
          "base_uri": "https://localhost:8080/",
          "height": 224
        }
      },
      "source": [
        "X.head()"
      ],
      "execution_count": 23,
      "outputs": [
        {
          "output_type": "execute_result",
          "data": {
            "text/html": [
              "<div>\n",
              "<style scoped>\n",
              "    .dataframe tbody tr th:only-of-type {\n",
              "        vertical-align: middle;\n",
              "    }\n",
              "\n",
              "    .dataframe tbody tr th {\n",
              "        vertical-align: top;\n",
              "    }\n",
              "\n",
              "    .dataframe thead th {\n",
              "        text-align: right;\n",
              "    }\n",
              "</style>\n",
              "<table border=\"1\" class=\"dataframe\">\n",
              "  <thead>\n",
              "    <tr style=\"text-align: right;\">\n",
              "      <th></th>\n",
              "      <th>assists</th>\n",
              "      <th>boosts</th>\n",
              "      <th>damageDealt</th>\n",
              "      <th>DBNOs</th>\n",
              "      <th>headshotKills</th>\n",
              "      <th>heals</th>\n",
              "      <th>killPlace</th>\n",
              "      <th>killPoints</th>\n",
              "      <th>kills</th>\n",
              "      <th>killStreaks</th>\n",
              "      <th>longestKill</th>\n",
              "      <th>matchDuration</th>\n",
              "      <th>maxPlace</th>\n",
              "      <th>numGroups</th>\n",
              "      <th>revives</th>\n",
              "      <th>rideDistance</th>\n",
              "      <th>roadKills</th>\n",
              "      <th>swimDistance</th>\n",
              "      <th>teamKills</th>\n",
              "      <th>vehicleDestroys</th>\n",
              "      <th>walkDistance</th>\n",
              "      <th>weaponsAcquired</th>\n",
              "      <th>winPoints</th>\n",
              "    </tr>\n",
              "  </thead>\n",
              "  <tbody>\n",
              "    <tr>\n",
              "      <th>0</th>\n",
              "      <td>0</td>\n",
              "      <td>0</td>\n",
              "      <td>0.00</td>\n",
              "      <td>0</td>\n",
              "      <td>0</td>\n",
              "      <td>0</td>\n",
              "      <td>60</td>\n",
              "      <td>1241</td>\n",
              "      <td>0</td>\n",
              "      <td>0</td>\n",
              "      <td>0.00</td>\n",
              "      <td>1306</td>\n",
              "      <td>28</td>\n",
              "      <td>26</td>\n",
              "      <td>0</td>\n",
              "      <td>0.0000</td>\n",
              "      <td>0</td>\n",
              "      <td>0.00</td>\n",
              "      <td>0</td>\n",
              "      <td>0</td>\n",
              "      <td>244.8</td>\n",
              "      <td>1</td>\n",
              "      <td>1466</td>\n",
              "    </tr>\n",
              "    <tr>\n",
              "      <th>1</th>\n",
              "      <td>0</td>\n",
              "      <td>0</td>\n",
              "      <td>91.47</td>\n",
              "      <td>0</td>\n",
              "      <td>0</td>\n",
              "      <td>0</td>\n",
              "      <td>57</td>\n",
              "      <td>0</td>\n",
              "      <td>0</td>\n",
              "      <td>0</td>\n",
              "      <td>0.00</td>\n",
              "      <td>1777</td>\n",
              "      <td>26</td>\n",
              "      <td>25</td>\n",
              "      <td>0</td>\n",
              "      <td>0.0045</td>\n",
              "      <td>0</td>\n",
              "      <td>11.04</td>\n",
              "      <td>0</td>\n",
              "      <td>0</td>\n",
              "      <td>1434.0</td>\n",
              "      <td>5</td>\n",
              "      <td>0</td>\n",
              "    </tr>\n",
              "    <tr>\n",
              "      <th>3</th>\n",
              "      <td>0</td>\n",
              "      <td>0</td>\n",
              "      <td>32.90</td>\n",
              "      <td>0</td>\n",
              "      <td>0</td>\n",
              "      <td>0</td>\n",
              "      <td>75</td>\n",
              "      <td>0</td>\n",
              "      <td>0</td>\n",
              "      <td>0</td>\n",
              "      <td>0.00</td>\n",
              "      <td>1436</td>\n",
              "      <td>31</td>\n",
              "      <td>30</td>\n",
              "      <td>0</td>\n",
              "      <td>0.0000</td>\n",
              "      <td>0</td>\n",
              "      <td>0.00</td>\n",
              "      <td>0</td>\n",
              "      <td>0</td>\n",
              "      <td>202.7</td>\n",
              "      <td>3</td>\n",
              "      <td>0</td>\n",
              "    </tr>\n",
              "    <tr>\n",
              "      <th>5</th>\n",
              "      <td>0</td>\n",
              "      <td>0</td>\n",
              "      <td>100.00</td>\n",
              "      <td>1</td>\n",
              "      <td>1</td>\n",
              "      <td>0</td>\n",
              "      <td>44</td>\n",
              "      <td>0</td>\n",
              "      <td>1</td>\n",
              "      <td>1</td>\n",
              "      <td>18.44</td>\n",
              "      <td>1395</td>\n",
              "      <td>28</td>\n",
              "      <td>28</td>\n",
              "      <td>0</td>\n",
              "      <td>0.0000</td>\n",
              "      <td>0</td>\n",
              "      <td>0.00</td>\n",
              "      <td>0</td>\n",
              "      <td>0</td>\n",
              "      <td>34.7</td>\n",
              "      <td>1</td>\n",
              "      <td>0</td>\n",
              "    </tr>\n",
              "    <tr>\n",
              "      <th>6</th>\n",
              "      <td>0</td>\n",
              "      <td>0</td>\n",
              "      <td>0.00</td>\n",
              "      <td>0</td>\n",
              "      <td>0</td>\n",
              "      <td>0</td>\n",
              "      <td>96</td>\n",
              "      <td>1262</td>\n",
              "      <td>0</td>\n",
              "      <td>0</td>\n",
              "      <td>0.00</td>\n",
              "      <td>1316</td>\n",
              "      <td>28</td>\n",
              "      <td>28</td>\n",
              "      <td>0</td>\n",
              "      <td>0.0000</td>\n",
              "      <td>0</td>\n",
              "      <td>0.00</td>\n",
              "      <td>0</td>\n",
              "      <td>0</td>\n",
              "      <td>13.5</td>\n",
              "      <td>1</td>\n",
              "      <td>1497</td>\n",
              "    </tr>\n",
              "  </tbody>\n",
              "</table>\n",
              "</div>"
            ],
            "text/plain": [
              "   assists  boosts  damageDealt  ...  walkDistance  weaponsAcquired  winPoints\n",
              "0        0       0         0.00  ...         244.8                1       1466\n",
              "1        0       0        91.47  ...        1434.0                5          0\n",
              "3        0       0        32.90  ...         202.7                3          0\n",
              "5        0       0       100.00  ...          34.7                1          0\n",
              "6        0       0         0.00  ...          13.5                1       1497\n",
              "\n",
              "[5 rows x 23 columns]"
            ]
          },
          "metadata": {
            "tags": []
          },
          "execution_count": 23
        }
      ]
    },
    {
      "cell_type": "code",
      "metadata": {
        "id": "PKcCx9owSTJ_",
        "outputId": "8548fd8d-2cda-40b1-bc38-0a86cb033ed6",
        "colab": {
          "base_uri": "https://localhost:8080/",
          "height": 119
        }
      },
      "source": [
        "y.head()"
      ],
      "execution_count": 24,
      "outputs": [
        {
          "output_type": "execute_result",
          "data": {
            "text/plain": [
              "0    0.4444\n",
              "1    0.6400\n",
              "3    0.1667\n",
              "5    0.0370\n",
              "6    0.0000\n",
              "Name: winPlacePerc, dtype: float64"
            ]
          },
          "metadata": {
            "tags": []
          },
          "execution_count": 24
        }
      ]
    },
    {
      "cell_type": "markdown",
      "metadata": {
        "id": "drN-92qJqCr_"
      },
      "source": [
        "### Reescalando os dados e dividindo os subsets"
      ]
    },
    {
      "cell_type": "code",
      "metadata": {
        "id": "S1_QkjwYPQY8"
      },
      "source": [
        "X = (X - X.min()) / (X.max() - X.min())\n",
        "y = (y - y.min()) / (y.max() - y.min())"
      ],
      "execution_count": 28,
      "outputs": []
    },
    {
      "cell_type": "code",
      "metadata": {
        "id": "R9UPWwbJPriD"
      },
      "source": [
        "X_train, X_test, y_train, y_test = train_test_split(X, y, train_size=0.8, shuffle=False)"
      ],
      "execution_count": 29,
      "outputs": []
    },
    {
      "cell_type": "code",
      "metadata": {
        "id": "1H7LLARLbgmD",
        "outputId": "ed412cb7-6856-4ead-9e61-eeac2feb28e8",
        "colab": {
          "base_uri": "https://localhost:8080/",
          "height": 34
        }
      },
      "source": [
        "print(X_train.shape, X_test.shape, y_train.shape, y_test.shape)"
      ],
      "execution_count": 30,
      "outputs": [
        {
          "output_type": "stream",
          "text": [
            "(1404948, 23) (351238, 23) (1404948,) (351238,)\n"
          ],
          "name": "stdout"
        }
      ]
    },
    {
      "cell_type": "code",
      "metadata": {
        "id": "ru48B-Ffh-bA",
        "outputId": "bfcd7151-dbf3-45f0-b331-e96379bcec8c",
        "colab": {
          "base_uri": "https://localhost:8080/",
          "height": 34
        }
      },
      "source": [
        "X_train = np.expand_dims(X_train, axis=2)\n",
        "X_train.shape"
      ],
      "execution_count": 34,
      "outputs": [
        {
          "output_type": "execute_result",
          "data": {
            "text/plain": [
              "(1404948, 23, 1)"
            ]
          },
          "metadata": {
            "tags": []
          },
          "execution_count": 34
        }
      ]
    },
    {
      "cell_type": "markdown",
      "metadata": {
        "id": "HLNFkQbKqKqI"
      },
      "source": [
        "### Uma forma diferente de implementar uma CNN\n",
        "\n",
        "Vale a pena comentar o que acontece nas duas células seguintes. Em uma outra ocasião eu precisei criar uma rede neural para trabalhos de regressão e durante minhas pesquisas eu descobri que o `keras` possui uma interface que consome recursos do `sklearn` (assim como `sklearn` usa o `tensorflow` por baixo dos panos) que está no módulo `keras.wrappers.scikit_learn.KerasRegressor`. Então, para podermos criar uma CNN para regressão, temos que:\n",
        "\n",
        "1 - Encapsular nossa arquitetura em uma função, que aqui eu chamo de `cnn_model`\n",
        "\n",
        "2 - Instanciar a classe `KerasRegressor` passando como parâmetros a função que encapsula a nossa arquitetura e o número de épocas de treinamento. Você pode passar outros parâmetros que o modelo de regressão original do `sklearn` suporta. [See the docs](https://www.tensorflow.org/api_docs/python/tf/keras/wrappers/scikit_learn/KerasRegressor).\n",
        "\n",
        "Depois disso, você treinar e avaliar o seu modelo da forma que você sempre fez."
      ]
    },
    {
      "cell_type": "code",
      "metadata": {
        "id": "7FUBCE1IOkjZ"
      },
      "source": [
        " def cnn_model():\n",
        "    model = Sequential()\n",
        "    model.add(Conv1D(filters=10, kernel_size=2, activation='relu', input_shape=(23, 1)))\n",
        "    model.add(Conv1D(filters=10, kernel_size=2, activation='relu'))\n",
        "    model.add(MaxPooling1D(pool_size=2))\n",
        "\n",
        "    model.add(Flatten())\n",
        "    model.add(Dense(50, activation='relu'))\n",
        "    model.add(Dense(1))\n",
        "\n",
        "    model.compile(optimizer='adam', loss='mse')\n",
        "\n",
        "    return model"
      ],
      "execution_count": 43,
      "outputs": []
    },
    {
      "cell_type": "code",
      "metadata": {
        "id": "PPl7cbPnmfrb"
      },
      "source": [
        "cnn_regressor = KerasRegressor(build_fn=cnn_model, epochs=10)"
      ],
      "execution_count": 44,
      "outputs": []
    },
    {
      "cell_type": "code",
      "metadata": {
        "id": "q_Pv3TD2hcad",
        "outputId": "5d84440e-5afa-4a5b-c230-e423e9183c14",
        "colab": {
          "base_uri": "https://localhost:8080/",
          "height": 374
        }
      },
      "source": [
        "cnn_regressor.fit(X_train, y_train)"
      ],
      "execution_count": 45,
      "outputs": [
        {
          "output_type": "stream",
          "text": [
            "Epoch 1/10\n",
            "43905/43905 [==============================] - 116s 3ms/step - loss: 0.0091\n",
            "Epoch 2/10\n",
            "43905/43905 [==============================] - 122s 3ms/step - loss: 0.0081\n",
            "Epoch 3/10\n",
            "43905/43905 [==============================] - 114s 3ms/step - loss: 0.0079\n",
            "Epoch 4/10\n",
            "43905/43905 [==============================] - 113s 3ms/step - loss: 0.0079\n",
            "Epoch 5/10\n",
            "43905/43905 [==============================] - 112s 3ms/step - loss: 0.0078\n",
            "Epoch 6/10\n",
            "43905/43905 [==============================] - 106s 2ms/step - loss: 0.0078\n",
            "Epoch 7/10\n",
            "43905/43905 [==============================] - 100s 2ms/step - loss: 0.0078\n",
            "Epoch 8/10\n",
            "43905/43905 [==============================] - 103s 2ms/step - loss: 0.0078\n",
            "Epoch 9/10\n",
            "43905/43905 [==============================] - 102s 2ms/step - loss: 0.0077\n",
            "Epoch 10/10\n",
            "43905/43905 [==============================] - 101s 2ms/step - loss: 0.0077\n"
          ],
          "name": "stdout"
        },
        {
          "output_type": "execute_result",
          "data": {
            "text/plain": [
              "<tensorflow.python.keras.callbacks.History at 0x7fd1e1380c18>"
            ]
          },
          "metadata": {
            "tags": []
          },
          "execution_count": 45
        }
      ]
    },
    {
      "cell_type": "code",
      "metadata": {
        "id": "D8J37s4SvHSm"
      },
      "source": [
        "X_test = np.expand_dims(X_test, axis=2)"
      ],
      "execution_count": 47,
      "outputs": []
    },
    {
      "cell_type": "code",
      "metadata": {
        "id": "396PQslMhwAk"
      },
      "source": [
        "cnn_regressor_pred = cnn_regressor.predict(X_test)"
      ],
      "execution_count": 48,
      "outputs": []
    },
    {
      "cell_type": "markdown",
      "metadata": {
        "id": "AqGM36Vfvbwi"
      },
      "source": [
        "### Avaliando o modelo\n",
        "\n",
        "Para a avaliação do modelo vamos utilizar as métricas tradicionais para modelos de regressão:\n",
        "\n",
        "- MAE: Erro Médio Absoluto\n",
        "- MSE: Erro Médio Quadrático\n",
        "- RMSE: Raiz do Erro Médio Quadrático\n",
        "- MAPE: Porcentagem do Erro Médio Absoluto"
      ]
    },
    {
      "cell_type": "code",
      "metadata": {
        "id": "AghTm4rAvazC",
        "outputId": "b29c2710-cff9-4359-ae7d-7502be54bc62",
        "colab": {
          "base_uri": "https://localhost:8080/",
          "height": 51
        }
      },
      "source": [
        "print('MAE - Erro Médio Absoluto')\n",
        "print(f'CNN: {round(mean_absolute_error(y_test, cnn_regressor_pred) ,2)}')"
      ],
      "execution_count": 52,
      "outputs": [
        {
          "output_type": "stream",
          "text": [
            "MAE - Erro Médio Absoluto\n",
            "CNN: 0.07\n"
          ],
          "name": "stdout"
        }
      ]
    },
    {
      "cell_type": "code",
      "metadata": {
        "id": "TF43jGNHxFex",
        "outputId": "f84d9fc4-cdc4-4bb7-8b77-e1cb2dd8a1f5",
        "colab": {
          "base_uri": "https://localhost:8080/",
          "height": 51
        }
      },
      "source": [
        "print('MSE - Erro Médio Quadrático')\n",
        "print(f'CNN: {round(mean_squared_error(y_test, cnn_regressor_pred), 2)}')"
      ],
      "execution_count": 53,
      "outputs": [
        {
          "output_type": "stream",
          "text": [
            "MSE - Erro Médio Quadrático\n",
            "CNN: 0.01\n"
          ],
          "name": "stdout"
        }
      ]
    },
    {
      "cell_type": "code",
      "metadata": {
        "id": "SoserwqQxVlC",
        "outputId": "528e94c8-4da2-4528-e127-bee93dbc1d6d",
        "colab": {
          "base_uri": "https://localhost:8080/",
          "height": 51
        }
      },
      "source": [
        "print('RMSE - Raiz do Erro Médio Quadrático')\n",
        "print(f'CNN: {round(np.sqrt(mean_absolute_error(y_test, cnn_regressor_pred)), 2)}')"
      ],
      "execution_count": 54,
      "outputs": [
        {
          "output_type": "stream",
          "text": [
            "RMSE - Raiz do Erro Médio Quadrático\n",
            "CNN: 0.26\n"
          ],
          "name": "stdout"
        }
      ]
    },
    {
      "cell_type": "code",
      "metadata": {
        "id": "j0BvlEXBxb9k"
      },
      "source": [
        "def mean_absolute_percentage_error(y_test, predict):\n",
        "    soma = 0\n",
        "    for i in range(len(y_test)):\n",
        "        soma += abs((y_test[i] - predict[i]) / y_test[i]) * 100\n",
        "    media_erro = soma / len(y_test)\n",
        "    return media_erro"
      ],
      "execution_count": 55,
      "outputs": []
    },
    {
      "cell_type": "code",
      "metadata": {
        "id": "BUfIpxboxfr6",
        "outputId": "b776afef-c0c9-4a29-8438-5404d876381a",
        "colab": {
          "base_uri": "https://localhost:8080/",
          "height": 51
        }
      },
      "source": [
        "y_test_no_index = y_test.reset_index(drop=True)\n",
        "\n",
        "print('MAPE - Porcentagem do Erro Médio Absoluto')\n",
        "print(f'CNN: {round(mean_absolute_percentage_error(y_test_no_index+1, cnn_regressor_pred+1)**(1/2), 2)}')"
      ],
      "execution_count": 59,
      "outputs": [
        {
          "output_type": "stream",
          "text": [
            "MAPE - Porcentagem do Erro Médio Absoluto\n",
            "CNN: 2.15\n"
          ],
          "name": "stdout"
        }
      ]
    },
    {
      "cell_type": "markdown",
      "metadata": {
        "id": "npmfhC43VXli"
      },
      "source": [
        "### Discutindo resultados e o trabalho\n",
        "\n",
        "|Modelo/Métrica|MAE |MSE |RMSE|MAPE|\n",
        "|--------------|----|----|----|----|\n",
        "|CNN           |0.07|0.01|0.26|2.15|\n",
        "\n",
        "Diante do resultados é possível perceber que o modelo, com uma configuração simples e com 10 épocas de treinamento, obteve resultados satisfatórios levando em consideração apenas o que as métricas nos dizem.\n",
        "\n",
        "Devemos levar em consideração que não estamos fazendo comparação com outro modelo ou outra arquitetura de CNN; não utlizamos otimização de parâmetros e não utilizamos seleção de atributos.\n",
        "\n",
        "Alguns pontos em relação os dados devem ser discutidos:\n",
        "\n",
        "- O dataset original contém um arquivo próprio de testes (caraceterística comum dos datasets de competições do Kaggle), mas optamos por criar os subsets apenas com o arquivo de treino. Isso pode ser um fator que tenha tido influência nos resultados.\n",
        "\n",
        "- A tarefa original do desfaio no Kaggle é para prever a probabilidade de um jogador vencer uma partida em qualquer modo de jogo, porém aqui nos restringimos apenas ao modo squad FPP ranqueado.\n",
        "\n",
        "- Poderíamos mudar o nosso target para podermos adequar nossos dados para uma tarefa de classificação."
      ]
    }
  ]
}